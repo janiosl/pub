{
 "cells": [
  {
   "cell_type": "markdown",
   "id": "0a605b1b-15bd-4364-9b87-f7bb4a41eb3e",
   "metadata": {},
   "source": [
    "# Autoencoders examples"
   ]
  },
  {
   "cell_type": "markdown",
   "id": "562a895e-bb48-4cb1-9200-9c15f26068ac",
   "metadata": {},
   "source": [
    "## Environment setup"
   ]
  },
  {
   "cell_type": "code",
   "execution_count": 1,
   "id": "5f0af609-1823-48e1-b23e-543c6265a1a9",
   "metadata": {},
   "outputs": [
    {
     "name": "stderr",
     "output_type": "stream",
     "text": [
      "Loading required package: usethis\n",
      "\n",
      "Loading required package: ggplot2\n",
      "\n",
      "Loading required package: daltoolbox\n",
      "\n",
      "Registered S3 method overwritten by 'quantmod':\n",
      "  method            from\n",
      "  as.zoo.data.frame zoo \n",
      "\n",
      "\n",
      "Attaching package: ‘daltoolbox’\n",
      "\n",
      "\n",
      "The following object is masked from ‘package:base’:\n",
      "\n",
      "    transform\n",
      "\n",
      "\n"
     ]
    }
   ],
   "source": [
    "library(devtools)\n",
    "library(ggpubr)\n",
    "#loading DAL\n",
    "#Current version\n",
    "source(\"https://raw.githubusercontent.com/cefet-rj-dal/daltoolbox/main/jupyter.R\")\n",
    "\n",
    "#loading DAL\n",
    "load_library(\"daltoolbox\")"
   ]
  },
  {
   "cell_type": "markdown",
   "id": "31b95c82-93e2-4c75-a11d-0702b7aa29a3",
   "metadata": {},
   "source": [
    "### Data"
   ]
  },
  {
   "cell_type": "code",
   "execution_count": 2,
   "id": "b0ed9d69-0e8b-4ab8-9b06-28f3e407e4e7",
   "metadata": {},
   "outputs": [
    {
     "data": {
      "text/plain": [
       "     P_PDG       P_TPT              T_TPT         P_MON_CKP      \n",
       " Min.   :0   Min.   :17435930   Min.   :116.9   Min.   :7950450  \n",
       " 1st Qu.:0   1st Qu.:17472050   1st Qu.:117.2   1st Qu.:7981696  \n",
       " Median :0   Median :17598880   Median :117.4   Median :8122462  \n",
       " Mean   :0   Mean   :17739948   Mean   :117.4   Mean   :8294544  \n",
       " 3rd Qu.:0   3rd Qu.:17929330   3rd Qu.:117.5   3rd Qu.:8495280  \n",
       " Max.   :0   Max.   :18433410   Max.   :117.7   Max.   :9366608  \n",
       "                                                                 \n",
       "   T_JUS_CKP       P_JUS_CKGL      T_JUS_CKGL          QGL        class      \n",
       " Min.   :75.35   Min.   :-300918   Mode:logical   Min.   :0   Min.   :  0.0  \n",
       " 1st Qu.:76.30   1st Qu.:-300918   NA's:12505     1st Qu.:0   1st Qu.:101.0  \n",
       " Median :77.98   Median :-300918                  Median :0   Median :101.0  \n",
       " Mean   :77.62   Mean   :-300918                  Mean   :0   Mean   : 78.9  \n",
       " 3rd Qu.:78.96   3rd Qu.:-300918                  3rd Qu.:0   3rd Qu.:101.0  \n",
       " Max.   :79.12   Max.   :-300918                  Max.   :0   Max.   :101.0  \n",
       "                                                              NA's   :65     "
      ]
     },
     "metadata": {},
     "output_type": "display_data"
    },
    {
     "data": {
      "text/html": [
       "<table class=\"dataframe\">\n",
       "<caption>A spec_tbl_df: 6 × 8</caption>\n",
       "<thead>\n",
       "\t<tr><th scope=col>P_PDG</th><th scope=col>P_TPT</th><th scope=col>T_TPT</th><th scope=col>P_MON_CKP</th><th scope=col>T_JUS_CKP</th><th scope=col>P_JUS_CKGL</th><th scope=col>QGL</th><th scope=col>class</th></tr>\n",
       "\t<tr><th scope=col>&lt;dbl&gt;</th><th scope=col>&lt;dbl&gt;</th><th scope=col>&lt;dbl&gt;</th><th scope=col>&lt;dbl&gt;</th><th scope=col>&lt;dbl&gt;</th><th scope=col>&lt;dbl&gt;</th><th scope=col>&lt;dbl&gt;</th><th scope=col>&lt;dbl&gt;</th></tr>\n",
       "</thead>\n",
       "<tbody>\n",
       "\t<tr><td>0</td><td>18433410</td><td>116.9109</td><td>9366608</td><td>75.34820</td><td>-300917.8</td><td>0</td><td>0</td></tr>\n",
       "\t<tr><td>0</td><td>18433410</td><td>116.9109</td><td>9366602</td><td>75.34825</td><td>-300917.8</td><td>0</td><td>0</td></tr>\n",
       "\t<tr><td>0</td><td>18433410</td><td>116.9109</td><td>9366598</td><td>75.34831</td><td>-300917.8</td><td>0</td><td>0</td></tr>\n",
       "\t<tr><td>0</td><td>18433410</td><td>116.9109</td><td>9366592</td><td>75.34837</td><td>-300917.8</td><td>0</td><td>0</td></tr>\n",
       "\t<tr><td>0</td><td>18433410</td><td>116.9109</td><td>9366588</td><td>75.34843</td><td>-300917.8</td><td>0</td><td>0</td></tr>\n",
       "\t<tr><td>0</td><td>18433410</td><td>116.9109</td><td>9366583</td><td>75.34848</td><td>-300917.8</td><td>0</td><td>0</td></tr>\n",
       "</tbody>\n",
       "</table>\n"
      ],
      "text/latex": [
       "A spec\\_tbl\\_df: 6 × 8\n",
       "\\begin{tabular}{llllllll}\n",
       " P\\_PDG & P\\_TPT & T\\_TPT & P\\_MON\\_CKP & T\\_JUS\\_CKP & P\\_JUS\\_CKGL & QGL & class\\\\\n",
       " <dbl> & <dbl> & <dbl> & <dbl> & <dbl> & <dbl> & <dbl> & <dbl>\\\\\n",
       "\\hline\n",
       "\t 0 & 18433410 & 116.9109 & 9366608 & 75.34820 & -300917.8 & 0 & 0\\\\\n",
       "\t 0 & 18433410 & 116.9109 & 9366602 & 75.34825 & -300917.8 & 0 & 0\\\\\n",
       "\t 0 & 18433410 & 116.9109 & 9366598 & 75.34831 & -300917.8 & 0 & 0\\\\\n",
       "\t 0 & 18433410 & 116.9109 & 9366592 & 75.34837 & -300917.8 & 0 & 0\\\\\n",
       "\t 0 & 18433410 & 116.9109 & 9366588 & 75.34843 & -300917.8 & 0 & 0\\\\\n",
       "\t 0 & 18433410 & 116.9109 & 9366583 & 75.34848 & -300917.8 & 0 & 0\\\\\n",
       "\\end{tabular}\n"
      ],
      "text/markdown": [
       "\n",
       "A spec_tbl_df: 6 × 8\n",
       "\n",
       "| P_PDG &lt;dbl&gt; | P_TPT &lt;dbl&gt; | T_TPT &lt;dbl&gt; | P_MON_CKP &lt;dbl&gt; | T_JUS_CKP &lt;dbl&gt; | P_JUS_CKGL &lt;dbl&gt; | QGL &lt;dbl&gt; | class &lt;dbl&gt; |\n",
       "|---|---|---|---|---|---|---|---|\n",
       "| 0 | 18433410 | 116.9109 | 9366608 | 75.34820 | -300917.8 | 0 | 0 |\n",
       "| 0 | 18433410 | 116.9109 | 9366602 | 75.34825 | -300917.8 | 0 | 0 |\n",
       "| 0 | 18433410 | 116.9109 | 9366598 | 75.34831 | -300917.8 | 0 | 0 |\n",
       "| 0 | 18433410 | 116.9109 | 9366592 | 75.34837 | -300917.8 | 0 | 0 |\n",
       "| 0 | 18433410 | 116.9109 | 9366588 | 75.34843 | -300917.8 | 0 | 0 |\n",
       "| 0 | 18433410 | 116.9109 | 9366583 | 75.34848 | -300917.8 | 0 | 0 |\n",
       "\n"
      ],
      "text/plain": [
       "  P_PDG P_TPT    T_TPT    P_MON_CKP T_JUS_CKP P_JUS_CKGL QGL class\n",
       "1 0     18433410 116.9109 9366608   75.34820  -300917.8  0   0    \n",
       "2 0     18433410 116.9109 9366602   75.34825  -300917.8  0   0    \n",
       "3 0     18433410 116.9109 9366598   75.34831  -300917.8  0   0    \n",
       "4 0     18433410 116.9109 9366592   75.34837  -300917.8  0   0    \n",
       "5 0     18433410 116.9109 9366588   75.34843  -300917.8  0   0    \n",
       "6 0     18433410 116.9109 9366583   75.34848  -300917.8  0   0    "
      ]
     },
     "metadata": {},
     "output_type": "display_data"
    }
   ],
   "source": [
    "#Install package\n",
    "#install.packages(\"devtools\")\n",
    "library(devtools)\n",
    "#devtools::install_github(\"cefet-rj-dal/event_datasets\", force=TRUE)\n",
    "library(dalevents)\n",
    "\n",
    "#Load a series\n",
    "data(oil_3w_Type_1)\n",
    "\n",
    "series <- oil_3w_Type_1$Type_1\n",
    "series <- series$`WELL-00001_20140124213136`\n",
    "\n",
    "#Use the loaded series\n",
    "summary(series)\n",
    "series$T_JUS_CKGL <- NULL\n",
    "\n",
    "head(series)"
   ]
  },
  {
   "cell_type": "code",
   "execution_count": 3,
   "id": "a1b44786-5005-4973-a17b-3b4b214008b7",
   "metadata": {},
   "outputs": [
    {
     "data": {
      "image/png": "[encoded data removed]",
      "text/plain": [
       "plot without title"
      ]
     },
     "metadata": {
      "image/png": {
       "height": 420,
       "width": 420
      }
     },
     "output_type": "display_data"
    }
   ],
   "source": [
    "plot(as.ts(series))"
   ]
  },
  {
   "cell_type": "code",
   "execution_count": 4,
   "id": "20adf248-14a1-45d6-86e3-c50d911538d6",
   "metadata": {},
   "outputs": [
    {
     "data": {
      "text/html": [
       "<table class=\"dataframe\">\n",
       "<caption>A spec_tbl_df: 6 × 7</caption>\n",
       "<thead>\n",
       "\t<tr><th scope=col>P_PDG</th><th scope=col>P_TPT</th><th scope=col>T_TPT</th><th scope=col>P_MON_CKP</th><th scope=col>T_JUS_CKP</th><th scope=col>P_JUS_CKGL</th><th scope=col>QGL</th></tr>\n",
       "\t<tr><th scope=col>&lt;dbl&gt;</th><th scope=col>&lt;dbl&gt;</th><th scope=col>&lt;dbl&gt;</th><th scope=col>&lt;dbl&gt;</th><th scope=col>&lt;dbl&gt;</th><th scope=col>&lt;dbl&gt;</th><th scope=col>&lt;dbl&gt;</th></tr>\n",
       "</thead>\n",
       "<tbody>\n",
       "\t<tr><td>0</td><td>18433410</td><td>116.9109</td><td>9366608</td><td>75.34820</td><td>-300917.8</td><td>0</td></tr>\n",
       "\t<tr><td>0</td><td>18433410</td><td>116.9109</td><td>9366602</td><td>75.34825</td><td>-300917.8</td><td>0</td></tr>\n",
       "\t<tr><td>0</td><td>18433410</td><td>116.9109</td><td>9366598</td><td>75.34831</td><td>-300917.8</td><td>0</td></tr>\n",
       "\t<tr><td>0</td><td>18433410</td><td>116.9109</td><td>9366592</td><td>75.34837</td><td>-300917.8</td><td>0</td></tr>\n",
       "\t<tr><td>0</td><td>18433410</td><td>116.9109</td><td>9366588</td><td>75.34843</td><td>-300917.8</td><td>0</td></tr>\n",
       "\t<tr><td>0</td><td>18433410</td><td>116.9109</td><td>9366583</td><td>75.34848</td><td>-300917.8</td><td>0</td></tr>\n",
       "</tbody>\n",
       "</table>\n"
      ],
      "text/latex": [
       "A spec\\_tbl\\_df: 6 × 7\n",
       "\\begin{tabular}{lllllll}\n",
       " P\\_PDG & P\\_TPT & T\\_TPT & P\\_MON\\_CKP & T\\_JUS\\_CKP & P\\_JUS\\_CKGL & QGL\\\\\n",
       " <dbl> & <dbl> & <dbl> & <dbl> & <dbl> & <dbl> & <dbl>\\\\\n",
       "\\hline\n",
       "\t 0 & 18433410 & 116.9109 & 9366608 & 75.34820 & -300917.8 & 0\\\\\n",
       "\t 0 & 18433410 & 116.9109 & 9366602 & 75.34825 & -300917.8 & 0\\\\\n",
       "\t 0 & 18433410 & 116.9109 & 9366598 & 75.34831 & -300917.8 & 0\\\\\n",
       "\t 0 & 18433410 & 116.9109 & 9366592 & 75.34837 & -300917.8 & 0\\\\\n",
       "\t 0 & 18433410 & 116.9109 & 9366588 & 75.34843 & -300917.8 & 0\\\\\n",
       "\t 0 & 18433410 & 116.9109 & 9366583 & 75.34848 & -300917.8 & 0\\\\\n",
       "\\end{tabular}\n"
      ],
      "text/markdown": [
       "\n",
       "A spec_tbl_df: 6 × 7\n",
       "\n",
       "| P_PDG &lt;dbl&gt; | P_TPT &lt;dbl&gt; | T_TPT &lt;dbl&gt; | P_MON_CKP &lt;dbl&gt; | T_JUS_CKP &lt;dbl&gt; | P_JUS_CKGL &lt;dbl&gt; | QGL &lt;dbl&gt; |\n",
       "|---|---|---|---|---|---|---|\n",
       "| 0 | 18433410 | 116.9109 | 9366608 | 75.34820 | -300917.8 | 0 |\n",
       "| 0 | 18433410 | 116.9109 | 9366602 | 75.34825 | -300917.8 | 0 |\n",
       "| 0 | 18433410 | 116.9109 | 9366598 | 75.34831 | -300917.8 | 0 |\n",
       "| 0 | 18433410 | 116.9109 | 9366592 | 75.34837 | -300917.8 | 0 |\n",
       "| 0 | 18433410 | 116.9109 | 9366588 | 75.34843 | -300917.8 | 0 |\n",
       "| 0 | 18433410 | 116.9109 | 9366583 | 75.34848 | -300917.8 | 0 |\n",
       "\n"
      ],
      "text/plain": [
       "  P_PDG P_TPT    T_TPT    P_MON_CKP T_JUS_CKP P_JUS_CKGL QGL\n",
       "1 0     18433410 116.9109 9366608   75.34820  -300917.8  0  \n",
       "2 0     18433410 116.9109 9366602   75.34825  -300917.8  0  \n",
       "3 0     18433410 116.9109 9366598   75.34831  -300917.8  0  \n",
       "4 0     18433410 116.9109 9366592   75.34837  -300917.8  0  \n",
       "5 0     18433410 116.9109 9366588   75.34843  -300917.8  0  \n",
       "6 0     18433410 116.9109 9366583   75.34848  -300917.8  0  "
      ]
     },
     "metadata": {},
     "output_type": "display_data"
    }
   ],
   "source": [
    "# Data --------------------------------------------------------------------\n",
    "data <- series[,1:7]\n",
    "head(data)"
   ]
  },
  {
   "cell_type": "code",
   "execution_count": 5,
   "id": "b5b29cf3-2cb2-4893-b6e7-8c76d52ee671",
   "metadata": {},
   "outputs": [],
   "source": [
    "# Data --------------------------------------------------------------------\n",
    "labels <- as.data.frame(series$class)\n",
    "names(labels) <- \"class\""
   ]
  },
  {
   "cell_type": "code",
   "execution_count": 6,
   "id": "f6c7e8f6-62b8-438c-bb3d-6f7b2bd12d31",
   "metadata": {},
   "outputs": [],
   "source": [
    "#Transition interval\n",
    "labels$trans <- 0\n",
    "nas <- is.na(labels$class)\n",
    "labels$trans[nas] <- 1"
   ]
  },
  {
   "cell_type": "code",
   "execution_count": 7,
   "id": "568c8b37-4004-4481-91dc-b4e10bd63d4e",
   "metadata": {},
   "outputs": [
    {
     "name": "stdout",
     "output_type": "stream",
     "text": [
      "[1] \"Ponto de mudança localizado em:\"\n",
      "[1] 1017\n"
     ]
    }
   ],
   "source": [
    "labels$cpd <- 0\n",
    "\n",
    "cp = FALSE\n",
    "for (i in 1:nrow(labels)){\n",
    "  if (cp == FALSE){\n",
    "    if(!is.na(labels$class[i]) && labels$class[i] != 0){\n",
    "      print(\"Ponto de mudança localizado em:\")\n",
    "      print(i)\n",
    "      labels$cpd[i] <- 1\n",
    "      cp = i\n",
    "    }\n",
    "  }\n",
    "}"
   ]
  },
  {
   "cell_type": "code",
   "execution_count": 8,
   "id": "56aea45e-f4c3-4991-b2c1-829c25c31cc3",
   "metadata": {},
   "outputs": [
    {
     "data": {
      "text/html": [
       "1017"
      ],
      "text/latex": [
       "1017"
      ],
      "text/markdown": [
       "1017"
      ],
      "text/plain": [
       "[1] 1017"
      ]
     },
     "metadata": {},
     "output_type": "display_data"
    }
   ],
   "source": [
    "cp"
   ]
  },
  {
   "cell_type": "code",
   "execution_count": 9,
   "id": "2d14f93f-55df-491b-b057-e34ddcc6ecf4",
   "metadata": {},
   "outputs": [
    {
     "name": "stdout",
     "output_type": "stream",
     "text": [
      "[1] 1018\n"
     ]
    }
   ],
   "source": [
    "i = cp+1\n",
    "cp = FALSE\n",
    "print(i)"
   ]
  },
  {
   "cell_type": "code",
   "execution_count": 10,
   "id": "ac008d12-f285-46fd-bd0b-0f43acfcb3c2",
   "metadata": {},
   "outputs": [
    {
     "name": "stdout",
     "output_type": "stream",
     "text": [
      "[1] \"Ponto de mudança localizado em:\"\n",
      "[1] 10725\n"
     ]
    }
   ],
   "source": [
    "for (i in 1018:nrow(labels)){\n",
    "  if (cp == FALSE){\n",
    "    if(!is.na(labels$class[i]) && labels$class[i] != 101){\n",
    "      print(\"Ponto de mudança localizado em:\")\n",
    "      print(i)\n",
    "      labels$cpd[i] <- 1\n",
    "      cp = i\n",
    "    }\n",
    "  }\n",
    "}"
   ]
  },
  {
   "cell_type": "code",
   "execution_count": 11,
   "id": "017fa822-0e25-410c-8e47-9bd88fe680a7",
   "metadata": {},
   "outputs": [
    {
     "data": {
      "text/html": [
       "2"
      ],
      "text/latex": [
       "2"
      ],
      "text/markdown": [
       "2"
      ],
      "text/plain": [
       "[1] 2"
      ]
     },
     "metadata": {},
     "output_type": "display_data"
    },
    {
     "data": {
      "text/html": [
       "<table class=\"dataframe\">\n",
       "<caption>A data.frame: 6 × 3</caption>\n",
       "<thead>\n",
       "\t<tr><th></th><th scope=col>class</th><th scope=col>trans</th><th scope=col>cpd</th></tr>\n",
       "\t<tr><th></th><th scope=col>&lt;dbl&gt;</th><th scope=col>&lt;dbl&gt;</th><th scope=col>&lt;dbl&gt;</th></tr>\n",
       "</thead>\n",
       "<tbody>\n",
       "\t<tr><th scope=row>1</th><td>0</td><td>0</td><td>0</td></tr>\n",
       "\t<tr><th scope=row>2</th><td>0</td><td>0</td><td>0</td></tr>\n",
       "\t<tr><th scope=row>3</th><td>0</td><td>0</td><td>0</td></tr>\n",
       "\t<tr><th scope=row>4</th><td>0</td><td>0</td><td>0</td></tr>\n",
       "\t<tr><th scope=row>5</th><td>0</td><td>0</td><td>0</td></tr>\n",
       "\t<tr><th scope=row>6</th><td>0</td><td>0</td><td>0</td></tr>\n",
       "</tbody>\n",
       "</table>\n"
      ],
      "text/latex": [
       "A data.frame: 6 × 3\n",
       "\\begin{tabular}{r|lll}\n",
       "  & class & trans & cpd\\\\\n",
       "  & <dbl> & <dbl> & <dbl>\\\\\n",
       "\\hline\n",
       "\t1 & 0 & 0 & 0\\\\\n",
       "\t2 & 0 & 0 & 0\\\\\n",
       "\t3 & 0 & 0 & 0\\\\\n",
       "\t4 & 0 & 0 & 0\\\\\n",
       "\t5 & 0 & 0 & 0\\\\\n",
       "\t6 & 0 & 0 & 0\\\\\n",
       "\\end{tabular}\n"
      ],
      "text/markdown": [
       "\n",
       "A data.frame: 6 × 3\n",
       "\n",
       "| <!--/--> | class &lt;dbl&gt; | trans &lt;dbl&gt; | cpd &lt;dbl&gt; |\n",
       "|---|---|---|---|\n",
       "| 1 | 0 | 0 | 0 |\n",
       "| 2 | 0 | 0 | 0 |\n",
       "| 3 | 0 | 0 | 0 |\n",
       "| 4 | 0 | 0 | 0 |\n",
       "| 5 | 0 | 0 | 0 |\n",
       "| 6 | 0 | 0 | 0 |\n",
       "\n"
      ],
      "text/plain": [
       "  class trans cpd\n",
       "1 0     0     0  \n",
       "2 0     0     0  \n",
       "3 0     0     0  \n",
       "4 0     0     0  \n",
       "5 0     0     0  \n",
       "6 0     0     0  "
      ]
     },
     "metadata": {},
     "output_type": "display_data"
    }
   ],
   "source": [
    "sum(labels$cpd)\n",
    "head(labels)"
   ]
  },
  {
   "cell_type": "code",
   "execution_count": 12,
   "id": "daefa989-7136-4754-9977-41bdfa53f922",
   "metadata": {},
   "outputs": [],
   "source": [
    "samp <- ts_sample(data, test_size = as.integer(nrow(data)*0.2))"
   ]
  },
  {
   "cell_type": "code",
   "execution_count": 13,
   "id": "a0e26ada-38b8-494c-b4fd-fe45118e84ce",
   "metadata": {},
   "outputs": [],
   "source": [
    "train <- as.data.frame(samp$train)\n",
    "test <- as.data.frame(samp$test)\n",
    "features <- names(train)"
   ]
  },
  {
   "cell_type": "markdown",
   "id": "16f75e7c-81d6-4b5e-b6b2-b827244634bf",
   "metadata": {},
   "source": [
    "## Autoencoders usage"
   ]
  },
  {
   "cell_type": "markdown",
   "id": "9cffb0f1-d786-4999-a487-71c79888ab2e",
   "metadata": {},
   "source": [
    "### Vanilla Autoencoder"
   ]
  },
  {
   "cell_type": "code",
   "execution_count": 14,
   "id": "58ff8424-302b-4c56-9655-bebb5d99ddaf",
   "metadata": {},
   "outputs": [],
   "source": [
    "# ***  Vanilla Autoencoder application *** --------------------------------\n",
    "# -------------------------------------------------------------------------\n",
    "#Create model\n",
    "input_size = length(data)\n",
    "\n",
    "ae <- autoenc_encode_decode(input_size, 1)"
   ]
  },
  {
   "cell_type": "code",
   "execution_count": 15,
   "id": "bb9214a7-f960-4986-8174-570f95689dff",
   "metadata": {},
   "outputs": [],
   "source": [
    "#Fit\n",
    "ae <- fit(ae, train)"
   ]
  },
  {
   "cell_type": "code",
   "execution_count": 16,
   "id": "c903b55f-3988-4199-a4f2-16fb4f076668",
   "metadata": {},
   "outputs": [],
   "source": [
    "#Decode\n",
    "result <- transform(ae, data)"
   ]
  },
  {
   "cell_type": "code",
   "execution_count": 17,
   "id": "ced1b50d-deb8-42eb-aa95-0fdad990fe37",
   "metadata": {},
   "outputs": [
    {
     "data": {
      "text/html": [
       "<table class=\"dataframe\">\n",
       "<caption>A data.frame: 6 × 7</caption>\n",
       "<thead>\n",
       "\t<tr><th></th><th scope=col>P_PDG</th><th scope=col>P_TPT</th><th scope=col>T_TPT</th><th scope=col>P_MON_CKP</th><th scope=col>T_JUS_CKP</th><th scope=col>P_JUS_CKGL</th><th scope=col>QGL</th></tr>\n",
       "\t<tr><th></th><th scope=col>&lt;dbl&gt;</th><th scope=col>&lt;dbl&gt;</th><th scope=col>&lt;dbl&gt;</th><th scope=col>&lt;dbl&gt;</th><th scope=col>&lt;dbl&gt;</th><th scope=col>&lt;dbl&gt;</th><th scope=col>&lt;dbl&gt;</th></tr>\n",
       "</thead>\n",
       "<tbody>\n",
       "\t<tr><th scope=row>1</th><td>0.01702864</td><td>18818190</td><td>127.2932</td><td>8602350</td><td>83.13842</td><td>-323768.2</td><td>-1.923641</td></tr>\n",
       "\t<tr><th scope=row>2</th><td>0.01702864</td><td>18818190</td><td>127.2932</td><td>8602350</td><td>83.13842</td><td>-323768.2</td><td>-1.923641</td></tr>\n",
       "\t<tr><th scope=row>3</th><td>0.02484114</td><td>18818190</td><td>127.2932</td><td>8602349</td><td>83.15405</td><td>-323768.2</td><td>-1.931453</td></tr>\n",
       "\t<tr><th scope=row>4</th><td>0.02484114</td><td>18818188</td><td>127.3088</td><td>8602348</td><td>83.16967</td><td>-323768.1</td><td>-1.958797</td></tr>\n",
       "\t<tr><th scope=row>5</th><td>0.03265364</td><td>18818186</td><td>127.2932</td><td>8602348</td><td>83.18530</td><td>-323768.1</td><td>-1.923641</td></tr>\n",
       "\t<tr><th scope=row>6</th><td>0.03265364</td><td>18818184</td><td>127.3244</td><td>8602346</td><td>83.16967</td><td>-323768.1</td><td>-1.927547</td></tr>\n",
       "</tbody>\n",
       "</table>\n"
      ],
      "text/latex": [
       "A data.frame: 6 × 7\n",
       "\\begin{tabular}{r|lllllll}\n",
       "  & P\\_PDG & P\\_TPT & T\\_TPT & P\\_MON\\_CKP & T\\_JUS\\_CKP & P\\_JUS\\_CKGL & QGL\\\\\n",
       "  & <dbl> & <dbl> & <dbl> & <dbl> & <dbl> & <dbl> & <dbl>\\\\\n",
       "\\hline\n",
       "\t1 & 0.01702864 & 18818190 & 127.2932 & 8602350 & 83.13842 & -323768.2 & -1.923641\\\\\n",
       "\t2 & 0.01702864 & 18818190 & 127.2932 & 8602350 & 83.13842 & -323768.2 & -1.923641\\\\\n",
       "\t3 & 0.02484114 & 18818190 & 127.2932 & 8602349 & 83.15405 & -323768.2 & -1.931453\\\\\n",
       "\t4 & 0.02484114 & 18818188 & 127.3088 & 8602348 & 83.16967 & -323768.1 & -1.958797\\\\\n",
       "\t5 & 0.03265364 & 18818186 & 127.2932 & 8602348 & 83.18530 & -323768.1 & -1.923641\\\\\n",
       "\t6 & 0.03265364 & 18818184 & 127.3244 & 8602346 & 83.16967 & -323768.1 & -1.927547\\\\\n",
       "\\end{tabular}\n"
      ],
      "text/markdown": [
       "\n",
       "A data.frame: 6 × 7\n",
       "\n",
       "| <!--/--> | P_PDG &lt;dbl&gt; | P_TPT &lt;dbl&gt; | T_TPT &lt;dbl&gt; | P_MON_CKP &lt;dbl&gt; | T_JUS_CKP &lt;dbl&gt; | P_JUS_CKGL &lt;dbl&gt; | QGL &lt;dbl&gt; |\n",
       "|---|---|---|---|---|---|---|---|\n",
       "| 1 | 0.01702864 | 18818190 | 127.2932 | 8602350 | 83.13842 | -323768.2 | -1.923641 |\n",
       "| 2 | 0.01702864 | 18818190 | 127.2932 | 8602350 | 83.13842 | -323768.2 | -1.923641 |\n",
       "| 3 | 0.02484114 | 18818190 | 127.2932 | 8602349 | 83.15405 | -323768.2 | -1.931453 |\n",
       "| 4 | 0.02484114 | 18818188 | 127.3088 | 8602348 | 83.16967 | -323768.1 | -1.958797 |\n",
       "| 5 | 0.03265364 | 18818186 | 127.2932 | 8602348 | 83.18530 | -323768.1 | -1.923641 |\n",
       "| 6 | 0.03265364 | 18818184 | 127.3244 | 8602346 | 83.16967 | -323768.1 | -1.927547 |\n",
       "\n"
      ],
      "text/plain": [
       "  P_PDG      P_TPT    T_TPT    P_MON_CKP T_JUS_CKP P_JUS_CKGL QGL      \n",
       "1 0.01702864 18818190 127.2932 8602350   83.13842  -323768.2  -1.923641\n",
       "2 0.01702864 18818190 127.2932 8602350   83.13842  -323768.2  -1.923641\n",
       "3 0.02484114 18818190 127.2932 8602349   83.15405  -323768.2  -1.931453\n",
       "4 0.02484114 18818188 127.3088 8602348   83.16967  -323768.1  -1.958797\n",
       "5 0.03265364 18818186 127.2932 8602348   83.18530  -323768.1  -1.923641\n",
       "6 0.03265364 18818184 127.3244 8602346   83.16967  -323768.1  -1.927547"
      ]
     },
     "metadata": {},
     "output_type": "display_data"
    }
   ],
   "source": [
    "result <- as.data.frame(result)\n",
    "names(result) <- features\n",
    "head(result)"
   ]
  },
  {
   "cell_type": "code",
   "execution_count": 18,
   "id": "bdd9e3f3-b55d-4dfd-8198-ce9edc4e55d1",
   "metadata": {},
   "outputs": [
    {
     "data": {
      "image/png": "[encoded data removed]",
      "text/plain": [
       "plot without title"
      ]
     },
     "metadata": {
      "image/png": {
       "height": 420,
       "width": 420
      }
     },
     "output_type": "display_data"
    }
   ],
   "source": [
    "#Input Layer\n",
    "plot(as.ts(data),\n",
    "     main = \"Test - Input Layer: X\")"
   ]
  },
  {
   "cell_type": "code",
   "execution_count": 19,
   "id": "76b192d3-ecfd-44fb-9779-1e42e36fd1a6",
   "metadata": {},
   "outputs": [
    {
     "data": {
      "image/png": "[encoded data removed]",
      "text/plain": [
       "plot without title"
      ]
     },
     "metadata": {
      "image/png": {
       "height": 420,
       "width": 420
      }
     },
     "output_type": "display_data"
    }
   ],
   "source": [
    "#Output Layer\n",
    "plot(as.ts(result),\n",
    "     main = \"Test - Output Layer: X'\")"
   ]
  },
  {
   "cell_type": "code",
   "execution_count": 20,
   "id": "05a9eb65-9032-41c3-95fa-663694cd689a",
   "metadata": {},
   "outputs": [],
   "source": [
    "#Latent Space\n",
    "ls <- autoenc_encode(input_size, 1)"
   ]
  },
  {
   "cell_type": "code",
   "execution_count": 21,
   "id": "56f3f485-5d47-4309-97f1-949a769bf004",
   "metadata": {},
   "outputs": [],
   "source": [
    "ls <- fit(ls, train)"
   ]
  },
  {
   "cell_type": "code",
   "execution_count": 22,
   "id": "7bcf95e0-f033-47e4-858b-16b42b20491c",
   "metadata": {},
   "outputs": [],
   "source": [
    "ls_result <- transform(ls, data)"
   ]
  },
  {
   "cell_type": "code",
   "execution_count": 23,
   "id": "015b5272-e750-4f45-8228-101004a356b9",
   "metadata": {},
   "outputs": [],
   "source": [
    "ls_result <- as.data.frame(ls_result)"
   ]
  },
  {
   "cell_type": "code",
   "execution_count": 24,
   "id": "9e02a606-d507-4885-9aea-f3780b498b1f",
   "metadata": {},
   "outputs": [
    {
     "data": {
      "image/png": "[encoded data removed]",
      "text/plain": [
       "Plot with title “Latent Space”"
      ]
     },
     "metadata": {
      "image/png": {
       "height": 420,
       "width": 420
      }
     },
     "output_type": "display_data"
    }
   ],
   "source": [
    "#Latent Space\n",
    "plot(as.ts(ls_result),\n",
    "     main = \"Latent Space\")"
   ]
  },
  {
   "cell_type": "code",
   "execution_count": 25,
   "id": "8ebadd78-e9cf-47fc-9561-f293ef61ea51",
   "metadata": {},
   "outputs": [
    {
     "data": {
      "text/html": [
       "<table class=\"dataframe\">\n",
       "<caption>A data.frame: 6 × 1</caption>\n",
       "<thead>\n",
       "\t<tr><th></th><th scope=col>V1</th></tr>\n",
       "\t<tr><th></th><th scope=col>&lt;dbl&gt;</th></tr>\n",
       "</thead>\n",
       "<tbody>\n",
       "\t<tr><th scope=row>1</th><td>1399143</td></tr>\n",
       "\t<tr><th scope=row>2</th><td>1399142</td></tr>\n",
       "\t<tr><th scope=row>3</th><td>1399142</td></tr>\n",
       "\t<tr><th scope=row>4</th><td>1399142</td></tr>\n",
       "\t<tr><th scope=row>5</th><td>1399142</td></tr>\n",
       "\t<tr><th scope=row>6</th><td>1399142</td></tr>\n",
       "</tbody>\n",
       "</table>\n"
      ],
      "text/latex": [
       "A data.frame: 6 × 1\n",
       "\\begin{tabular}{r|l}\n",
       "  & V1\\\\\n",
       "  & <dbl>\\\\\n",
       "\\hline\n",
       "\t1 & 1399143\\\\\n",
       "\t2 & 1399142\\\\\n",
       "\t3 & 1399142\\\\\n",
       "\t4 & 1399142\\\\\n",
       "\t5 & 1399142\\\\\n",
       "\t6 & 1399142\\\\\n",
       "\\end{tabular}\n"
      ],
      "text/markdown": [
       "\n",
       "A data.frame: 6 × 1\n",
       "\n",
       "| <!--/--> | V1 &lt;dbl&gt; |\n",
       "|---|---|\n",
       "| 1 | 1399143 |\n",
       "| 2 | 1399142 |\n",
       "| 3 | 1399142 |\n",
       "| 4 | 1399142 |\n",
       "| 5 | 1399142 |\n",
       "| 6 | 1399142 |\n",
       "\n"
      ],
      "text/plain": [
       "  V1     \n",
       "1 1399143\n",
       "2 1399142\n",
       "3 1399142\n",
       "4 1399142\n",
       "5 1399142\n",
       "6 1399142"
      ]
     },
     "metadata": {},
     "output_type": "display_data"
    }
   ],
   "source": [
    "head(ls_result)"
   ]
  }
 ],
 "metadata": {
  "kernelspec": {
   "display_name": "R",
   "language": "R",
   "name": "ir"
  },
  "language_info": {
   "codemirror_mode": "r",
   "file_extension": ".r",
   "mimetype": "text/x-r-source",
   "name": "R",
   "pygments_lexer": "r",
   "version": "4.4.2"
  }
 },
 "nbformat": 4,
 "nbformat_minor": 5
}
